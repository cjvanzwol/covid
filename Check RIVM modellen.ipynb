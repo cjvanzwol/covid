{
 "cells": [
  {
   "cell_type": "code",
   "execution_count": 1,
   "id": "2888be31-6f02-4d1d-976f-c2d3c1ba43fc",
   "metadata": {},
   "outputs": [],
   "source": [
    "#%run ./data/data.ipynb"
   ]
  },
  {
   "cell_type": "markdown",
   "id": "serious-spanish",
   "metadata": {},
   "source": [
    "# Check RIVM modellen\n",
    "https://www.rivm.nl/coronavirus-covid-19/hoe-berekeningen-bijdragen-aan-bestrijding-van-virus/rekenmodellen\n",
    "\n",
    "https://github.com/lo-hfk/epyestim"
   ]
  },
  {
   "cell_type": "markdown",
   "id": "5bd29c15-dd03-48c8-8e3d-6337304dfa9a",
   "metadata": {},
   "source": [
    "## Tried covid-seird = False\n",
    "https://github.com/pblins/covid_seird\n",
    "\n",
    "Not able to load custom data"
   ]
  },
  {
   "cell_type": "markdown",
   "id": "7e09f5c6-d604-487e-8f5d-73b34d8a2d04",
   "metadata": {},
   "source": [
    "## trying SEIR\n",
    "https://pypi.org/project/SEIR/"
   ]
  },
  {
   "cell_type": "code",
   "execution_count": 5,
   "id": "surgical-express",
   "metadata": {},
   "outputs": [],
   "source": [
    "from SEIR import seir"
   ]
  },
  {
   "cell_type": "code",
   "execution_count": 6,
   "id": "69892d88-acdd-433e-bc4b-340584358e9d",
   "metadata": {
    "tags": []
   },
   "outputs": [],
   "source": [
    "model = seir.SEIR(incubation_period=5,\n",
    "               infectious_period=5,\n",
    "               initial_R0=1,\n",
    "               hospitalization_probability=0.5,\n",
    "               hospitalization_duration=10,\n",
    "               hospitalization_lag_from_onset=2,\n",
    "               icu_probability=0.1,\n",
    "               icu_duration=5,\n",
    "               icu_lag_from_onset=4,\n",
    "               death_probability=0.2,\n",
    "               death_lag_from_onset=4,\n",
    "               population=17000\n",
    ")"
   ]
  },
  {
   "cell_type": "code",
   "execution_count": 7,
   "id": "ec7d7914-db9b-40ac-b0a4-eb3011296334",
   "metadata": {
    "tags": []
   },
   "outputs": [
    {
     "data": {
      "text/plain": [
       "<module 'SEIR.visualization' from '/home/cjvanzwol/miniconda3/envs/covid/lib/python3.9/site-packages/SEIR/visualization.py'>"
      ]
     },
     "execution_count": 7,
     "metadata": {},
     "output_type": "execute_result"
    }
   ],
   "source": [
    "from SEIR import visualization\n",
    "visualization"
   ]
  },
  {
   "cell_type": "code",
   "execution_count": null,
   "id": "419ceca6-37ca-4577-bc81-5cb73435f2c3",
   "metadata": {},
   "outputs": [],
   "source": [
    "from SEIR import cli\n",
    "cli"
   ]
  },
  {
   "cell_type": "markdown",
   "id": "f001032b-a30b-4756-8ba6-3fcda5628665",
   "metadata": {},
   "source": [
    "## trying epintervene\n",
    "https://github.com/andrea-allen/epintervene"
   ]
  },
  {
   "cell_type": "code",
   "execution_count": null,
   "id": "4575f88c-36f6-45f7-a493-af8b0bb63301",
   "metadata": {},
   "outputs": [],
   "source": [
    "import epintervene"
   ]
  },
  {
   "cell_type": "code",
   "execution_count": null,
   "id": "b961a184-996b-4594-af24-52f39c8508ae",
   "metadata": {},
   "outputs": [],
   "source": []
  }
 ],
 "metadata": {
  "kernelspec": {
   "display_name": "covid",
   "language": "python",
   "name": "covid"
  },
  "language_info": {
   "codemirror_mode": {
    "name": "ipython",
    "version": 3
   },
   "file_extension": ".py",
   "mimetype": "text/x-python",
   "name": "python",
   "nbconvert_exporter": "python",
   "pygments_lexer": "ipython3",
   "version": "3.9.6"
  }
 },
 "nbformat": 4,
 "nbformat_minor": 5
}
