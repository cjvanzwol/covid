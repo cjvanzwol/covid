{
 "cells": [
  {
   "cell_type": "code",
   "execution_count": 4,
   "id": "2888be31-6f02-4d1d-976f-c2d3c1ba43fc",
   "metadata": {},
   "outputs": [
    {
     "name": "stdout",
     "output_type": "stream",
     "text": [
      "/home/cjvanzwol/covid\n",
      "Pulling data from sources.json:\n",
      "(Source: CBS)  deceased @ https://opendata.cbs.nl/statline/portal.html?_catalog=CBS&_la=nl&tableId=70895ned&_theme=76\n",
      "(Source: CBS)  population @ https://opendata.cbs.nl/statline/portal.html?_catalog=CBS&_la=nl&tableId=37230ned&_theme=76\n",
      "(Source: RIVM)  counts_per_municipality @ https://data.rivm.nl/geonetwork/srv/dut/catalog.search#/metadata/5f6bc429-1596-490e-8618-1ed8fd768427\n",
      "(Source: RIVM)  prevalence @ https://data.rivm.nl/geonetwork/srv/dut/catalog.search#/metadata/097155aa-75eb-4caa-8ed3-4c6edb80467e\n",
      "(Source: RIVM)  r @ https://data.rivm.nl/geonetwork/srv/dut/catalog.search#/metadata/ed0699d1-c9d5-4436-8517-27eb993eab6e\n",
      "(Source: RIVM)  homes_for_elderly @ https://data.rivm.nl/geonetwork/srv/dut/catalog.search#/metadata/0179dd26-7bf6-4021-857f-8623aaf8e73a\n",
      "(Source: RIVM)  homes_for_disabled @ https://data.rivm.nl/geonetwork/srv/dut/catalog.search#/metadata/aa28b74d-7150-47bc-a7cb-98876e93381b\n",
      "(Source: RIVM)  seventy_plus_living_at_home @ https://data.rivm.nl/geonetwork/srv/dut/catalog.search#/metadata/40508e17-7296-4f39-ad25-8ddd0c904087\n",
      "(Source: RIVM)  sewage @ https://data.rivm.nl/geonetwork/srv/dut/catalog.search#/metadata/a2960b68-9d3f-4dc3-9485-600570cd52b9\n",
      "(Source: RIVM)  support_and_behavior @ https://data.rivm.nl/geonetwork/srv/dut/catalog.search#/metadata/8a72d78a-fcf8-4882-b0ab-cd594961a267?tab=relations\n",
      "(Source: RIVM)  wekelijkse_update @ https://www.rivm.nl/coronavirus-covid-19/actueel/wekelijkse-update-epidemiologische-situatie-covid-19-in-nederland\n",
      "(Source: NICE)  hospital_admission @ https://data.rivm.nl/geonetwork/srv/dut/catalog.search#/metadata/4f4ad069-8f24-4fe8-b2a7-533ef27a899f\n",
      "(Source: NICE)  ic_admission @ https://data.rivm.nl/geonetwork/srv/dut/catalog.search#/metadata/45f911c4-3a62-42f1-b594-524a75db2c94\n",
      "(Source: LCPS)  hospital_occupation @ https://lcps.nu/datafeed/\n",
      "(Source: Nivel)  general_practioner @ https://www.nivel.nl/nl/nivel-zorgregistraties-eerste-lijn/monitor-cijfers-covid-19-achtige-klachten-huisartsenpraktijken#opendata\n",
      "\n",
      "Creating dataframes for analysis:\n",
      "dataframe from cbs created, per week per agegroup: deceased_week_agegroup\n",
      "dataframe from cbs created, per week: deceased_per_week\n",
      "dataframe from cbs created, per year per agegroup: deceased_year_agegroup\n",
      "dataframe from cbs created, per year: deceased_per_year\n",
      "dataframe from cbs created, per month per municipality: population_month_municipality\n",
      "dataframe from cbs created, per year per municipality: population_year_municipality\n",
      "dataframe from cbs created, per month: population_per_month\n",
      "dataframe from cbs created, per month: population_per_year\n",
      "dataframe for RIVM data created, per day: rivm_per_day\n",
      "dataframe for RIVM data created: rivm_per_week\n",
      "dataframe for RIVM data created, per month: rivm_per_month\n",
      "dataframe for RIVM data created, per month: rivm_per_month\n",
      "dataframe from cbs created, per week per agegroup: rivm_week_agegroup\n",
      "dataframe CBS and RIVM combined, per week: per_week\n",
      "dataframe CBS and RIVM combined, per month: per_month\n",
      "dataframe CBS and RIVM combined, per month: per_year\n"
     ]
    }
   ],
   "source": [
    "%run ./data/data.ipynb"
   ]
  },
  {
   "cell_type": "markdown",
   "id": "serious-spanish",
   "metadata": {},
   "source": [
    "# Check RIVM modellen\n",
    "https://www.rivm.nl/coronavirus-covid-19/hoe-berekeningen-bijdragen-aan-bestrijding-van-virus/rekenmodellen\n",
    "\n",
    "https://github.com/lo-hfk/epyestim"
   ]
  },
  {
   "cell_type": "markdown",
   "id": "7e09f5c6-d604-487e-8f5d-73b34d8a2d04",
   "metadata": {},
   "source": [
    "## trying SEIR\n",
    "https://pypi.org/project/SEIR/"
   ]
  },
  {
   "cell_type": "code",
   "execution_count": 160,
   "id": "surgical-express",
   "metadata": {},
   "outputs": [],
   "source": [
    "from SEIR import seir"
   ]
  },
  {
   "cell_type": "code",
   "execution_count": 161,
   "id": "69892d88-acdd-433e-bc4b-340584358e9d",
   "metadata": {},
   "outputs": [],
   "source": [
    "model = seir.SEIR(incubation_period=5,\n",
    "               infectious_period=5,\n",
    "               initial_R0=1,\n",
    "               hospitalization_probability=0.5,\n",
    "               hospitalization_duration=10,\n",
    "               hospitalization_lag_from_onset=2,\n",
    "               icu_probability=0.1,\n",
    "               icu_duration=5,\n",
    "               icu_lag_from_onset=4,\n",
    "               death_probability=0.2,\n",
    "               death_lag_from_onset=4,\n",
    "               population=17000\n",
    ")"
   ]
  },
  {
   "cell_type": "code",
   "execution_count": 162,
   "id": "ec7d7914-db9b-40ac-b0a4-eb3011296334",
   "metadata": {},
   "outputs": [],
   "source": [
    "from SEIR import visualization"
   ]
  },
  {
   "cell_type": "code",
   "execution_count": null,
   "id": "9475eb88-3f8c-4d80-9924-760e22cdaddd",
   "metadata": {},
   "outputs": [],
   "source": []
  },
  {
   "cell_type": "code",
   "execution_count": 163,
   "id": "419ceca6-37ca-4577-bc81-5cb73435f2c3",
   "metadata": {},
   "outputs": [],
   "source": [
    "from SEIR import cli"
   ]
  },
  {
   "cell_type": "code",
   "execution_count": 164,
   "id": "55775a6c-6bf2-4bba-ae1e-a276d7a11cb9",
   "metadata": {},
   "outputs": [
    {
     "ename": "TypeError",
     "evalue": "'module' object is not callable",
     "output_type": "error",
     "traceback": [
      "\u001b[0;31m---------------------------------------------------------------------------\u001b[0m",
      "\u001b[0;31mTypeError\u001b[0m                                 Traceback (most recent call last)",
      "\u001b[0;32m/tmp/ipykernel_780/341360244.py\u001b[0m in \u001b[0;36m<module>\u001b[0;34m\u001b[0m\n\u001b[0;32m----> 1\u001b[0;31m \u001b[0mcli\u001b[0m\u001b[0;34m(\u001b[0m\u001b[0;34m)\u001b[0m\u001b[0;34m\u001b[0m\u001b[0;34m\u001b[0m\u001b[0m\n\u001b[0m",
      "\u001b[0;31mTypeError\u001b[0m: 'module' object is not callable"
     ]
    }
   ],
   "source": [
    "cli()"
   ]
  },
  {
   "cell_type": "markdown",
   "id": "f001032b-a30b-4756-8ba6-3fcda5628665",
   "metadata": {},
   "source": [
    "## trying epintervene\n",
    "https://github.com/andrea-allen/epintervene"
   ]
  },
  {
   "cell_type": "code",
   "execution_count": null,
   "id": "4575f88c-36f6-45f7-a493-af8b0bb63301",
   "metadata": {},
   "outputs": [],
   "source": [
    "import epintervene"
   ]
  },
  {
   "cell_type": "markdown",
   "id": "5bd29c15-dd03-48c8-8e3d-6337304dfa9a",
   "metadata": {},
   "source": [
    "## trying covid-seird\n",
    "https://github.com/pblins/covid_seird"
   ]
  },
  {
   "cell_type": "code",
   "execution_count": 235,
   "id": "296c269d-b797-4002-904c-f331dddd6ee8",
   "metadata": {},
   "outputs": [
    {
     "data": {
      "text/plain": [
       "{'NL': 'Netherlands'}"
      ]
     },
     "execution_count": 235,
     "metadata": {},
     "output_type": "execute_result"
    }
   ],
   "source": [
    "from covid_seird import CountryCovidSeird\n",
    "CountryCovidSeird.code_search(\"netherlands\")"
   ]
  },
  {
   "cell_type": "code",
   "execution_count": 236,
   "id": "1dde6640-af69-4145-84ab-89eb8897042f",
   "metadata": {},
   "outputs": [],
   "source": [
    "nl = CountryCovidSeird(\"nl\")"
   ]
  },
  {
   "cell_type": "code",
   "execution_count": 237,
   "id": "9aa2d7bd-441b-47e6-a2e8-d3cd78b4b027",
   "metadata": {},
   "outputs": [
    {
     "data": {
      "text/html": [
       "<div>\n",
       "<style scoped>\n",
       "    .dataframe tbody tr th:only-of-type {\n",
       "        vertical-align: middle;\n",
       "    }\n",
       "\n",
       "    .dataframe tbody tr th {\n",
       "        vertical-align: top;\n",
       "    }\n",
       "\n",
       "    .dataframe thead th {\n",
       "        text-align: right;\n",
       "    }\n",
       "</style>\n",
       "<table border=\"1\" class=\"dataframe\">\n",
       "  <thead>\n",
       "    <tr style=\"text-align: right;\">\n",
       "      <th></th>\n",
       "      <th>confirmed</th>\n",
       "      <th>deaths</th>\n",
       "    </tr>\n",
       "  </thead>\n",
       "  <tbody>\n",
       "    <tr>\n",
       "      <th>2020-03-13T00:00:00Z</th>\n",
       "      <td>2</td>\n",
       "      <td>0</td>\n",
       "    </tr>\n",
       "    <tr>\n",
       "      <th>2020-03-14T00:00:00Z</th>\n",
       "      <td>2</td>\n",
       "      <td>0</td>\n",
       "    </tr>\n",
       "    <tr>\n",
       "      <th>2020-03-15T00:00:00Z</th>\n",
       "      <td>2</td>\n",
       "      <td>0</td>\n",
       "    </tr>\n",
       "    <tr>\n",
       "      <th>2020-03-16T00:00:00Z</th>\n",
       "      <td>2</td>\n",
       "      <td>0</td>\n",
       "    </tr>\n",
       "    <tr>\n",
       "      <th>2020-03-17T00:00:00Z</th>\n",
       "      <td>3</td>\n",
       "      <td>0</td>\n",
       "    </tr>\n",
       "    <tr>\n",
       "      <th>...</th>\n",
       "      <td>...</td>\n",
       "      <td>...</td>\n",
       "    </tr>\n",
       "    <tr>\n",
       "      <th>2021-11-07T00:00:00Z</th>\n",
       "      <td>16006</td>\n",
       "      <td>172</td>\n",
       "    </tr>\n",
       "    <tr>\n",
       "      <th>2021-11-08T00:00:00Z</th>\n",
       "      <td>16011</td>\n",
       "      <td>172</td>\n",
       "    </tr>\n",
       "    <tr>\n",
       "      <th>2021-11-09T00:00:00Z</th>\n",
       "      <td>16011</td>\n",
       "      <td>172</td>\n",
       "    </tr>\n",
       "    <tr>\n",
       "      <th>2021-11-10T00:00:00Z</th>\n",
       "      <td>16039</td>\n",
       "      <td>172</td>\n",
       "    </tr>\n",
       "    <tr>\n",
       "      <th>2021-11-11T00:00:00Z</th>\n",
       "      <td>16057</td>\n",
       "      <td>172</td>\n",
       "    </tr>\n",
       "  </tbody>\n",
       "</table>\n",
       "<p>609 rows × 2 columns</p>\n",
       "</div>"
      ],
      "text/plain": [
       "                      confirmed  deaths\n",
       "2020-03-13T00:00:00Z          2       0\n",
       "2020-03-14T00:00:00Z          2       0\n",
       "2020-03-15T00:00:00Z          2       0\n",
       "2020-03-16T00:00:00Z          2       0\n",
       "2020-03-17T00:00:00Z          3       0\n",
       "...                         ...     ...\n",
       "2021-11-07T00:00:00Z      16006     172\n",
       "2021-11-08T00:00:00Z      16011     172\n",
       "2021-11-09T00:00:00Z      16011     172\n",
       "2021-11-10T00:00:00Z      16039     172\n",
       "2021-11-11T00:00:00Z      16057     172\n",
       "\n",
       "[609 rows x 2 columns]"
      ]
     },
     "execution_count": 237,
     "metadata": {},
     "output_type": "execute_result"
    }
   ],
   "source": [
    "nl.data"
   ]
  },
  {
   "cell_type": "code",
   "execution_count": 238,
   "id": "f1938225-069d-4495-a25a-03435476f2cd",
   "metadata": {
    "tags": []
   },
   "outputs": [],
   "source": [
    "per_week = per_week.reset_index()\n",
    "per_week['YW'] = per_week['year']*100+per_week['week']\n",
    "per_week.set_index('YW',inplace=True)\n",
    "per_week = per_week[['Positive_tests','Deceased_covid']]\n",
    "per_week.rename(columns = {'Positive_tests':'confirmed', 'Deceased_covid':'deaths'}, inplace = True)\n",
    "per_week.dropna(inplace=True)"
   ]
  },
  {
   "cell_type": "code",
   "execution_count": 242,
   "id": "cd394afb-b66c-46b3-8a28-122cf6ae72d6",
   "metadata": {},
   "outputs": [
    {
     "ename": "AttributeError",
     "evalue": "can't set attribute",
     "output_type": "error",
     "traceback": [
      "\u001b[0;31m---------------------------------------------------------------------------\u001b[0m",
      "\u001b[0;31mAttributeError\u001b[0m                            Traceback (most recent call last)",
      "\u001b[0;32m/tmp/ipykernel_780/4064502566.py\u001b[0m in \u001b[0;36m<module>\u001b[0;34m\u001b[0m\n\u001b[0;32m----> 1\u001b[0;31m \u001b[0mnl\u001b[0m\u001b[0;34m.\u001b[0m\u001b[0mdata\u001b[0m \u001b[0;34m=\u001b[0m \u001b[0mnl\u001b[0m\u001b[0;34m.\u001b[0m\u001b[0mdata\u001b[0m\u001b[0;34m.\u001b[0m\u001b[0mappend\u001b[0m\u001b[0;34m(\u001b[0m\u001b[0mper_week\u001b[0m\u001b[0;34m)\u001b[0m\u001b[0;34m\u001b[0m\u001b[0;34m\u001b[0m\u001b[0m\n\u001b[0m",
      "\u001b[0;31mAttributeError\u001b[0m: can't set attribute"
     ]
    }
   ],
   "source": [
    "nl.data = nl.data.append(per_week)"
   ]
  },
  {
   "cell_type": "code",
   "execution_count": 230,
   "id": "70b18120-fa12-484b-af17-7f07a8782378",
   "metadata": {},
   "outputs": [],
   "source": [
    "nl.data.reset_index(inplace=True)\n",
    "nl.data.rename(columns={'index': 'in'}, inplace=True)"
   ]
  },
  {
   "cell_type": "code",
   "execution_count": 227,
   "id": "4b603d5e-1105-4a52-95eb-815cb88bfc4f",
   "metadata": {},
   "outputs": [
    {
     "data": {
      "text/html": [
       "<div>\n",
       "<style scoped>\n",
       "    .dataframe tbody tr th:only-of-type {\n",
       "        vertical-align: middle;\n",
       "    }\n",
       "\n",
       "    .dataframe tbody tr th {\n",
       "        vertical-align: top;\n",
       "    }\n",
       "\n",
       "    .dataframe thead th {\n",
       "        text-align: right;\n",
       "    }\n",
       "</style>\n",
       "<table border=\"1\" class=\"dataframe\">\n",
       "  <thead>\n",
       "    <tr style=\"text-align: right;\">\n",
       "      <th></th>\n",
       "      <th>in</th>\n",
       "      <th>confirmed</th>\n",
       "      <th>deaths</th>\n",
       "    </tr>\n",
       "  </thead>\n",
       "  <tbody>\n",
       "    <tr>\n",
       "      <th>0</th>\n",
       "      <td>2020-03-13T00:00:00Z</td>\n",
       "      <td>2</td>\n",
       "      <td>0</td>\n",
       "    </tr>\n",
       "    <tr>\n",
       "      <th>1</th>\n",
       "      <td>2020-03-14T00:00:00Z</td>\n",
       "      <td>2</td>\n",
       "      <td>0</td>\n",
       "    </tr>\n",
       "    <tr>\n",
       "      <th>2</th>\n",
       "      <td>2020-03-15T00:00:00Z</td>\n",
       "      <td>2</td>\n",
       "      <td>0</td>\n",
       "    </tr>\n",
       "    <tr>\n",
       "      <th>3</th>\n",
       "      <td>2020-03-16T00:00:00Z</td>\n",
       "      <td>2</td>\n",
       "      <td>0</td>\n",
       "    </tr>\n",
       "    <tr>\n",
       "      <th>4</th>\n",
       "      <td>2020-03-17T00:00:00Z</td>\n",
       "      <td>3</td>\n",
       "      <td>0</td>\n",
       "    </tr>\n",
       "    <tr>\n",
       "      <th>...</th>\n",
       "      <td>...</td>\n",
       "      <td>...</td>\n",
       "      <td>...</td>\n",
       "    </tr>\n",
       "    <tr>\n",
       "      <th>604</th>\n",
       "      <td>2021-11-07T00:00:00Z</td>\n",
       "      <td>16006</td>\n",
       "      <td>172</td>\n",
       "    </tr>\n",
       "    <tr>\n",
       "      <th>605</th>\n",
       "      <td>2021-11-08T00:00:00Z</td>\n",
       "      <td>16011</td>\n",
       "      <td>172</td>\n",
       "    </tr>\n",
       "    <tr>\n",
       "      <th>606</th>\n",
       "      <td>2021-11-09T00:00:00Z</td>\n",
       "      <td>16011</td>\n",
       "      <td>172</td>\n",
       "    </tr>\n",
       "    <tr>\n",
       "      <th>607</th>\n",
       "      <td>2021-11-10T00:00:00Z</td>\n",
       "      <td>16039</td>\n",
       "      <td>172</td>\n",
       "    </tr>\n",
       "    <tr>\n",
       "      <th>608</th>\n",
       "      <td>2021-11-11T00:00:00Z</td>\n",
       "      <td>16057</td>\n",
       "      <td>172</td>\n",
       "    </tr>\n",
       "  </tbody>\n",
       "</table>\n",
       "<p>609 rows × 3 columns</p>\n",
       "</div>"
      ],
      "text/plain": [
       "                       in  confirmed  deaths\n",
       "0    2020-03-13T00:00:00Z          2       0\n",
       "1    2020-03-14T00:00:00Z          2       0\n",
       "2    2020-03-15T00:00:00Z          2       0\n",
       "3    2020-03-16T00:00:00Z          2       0\n",
       "4    2020-03-17T00:00:00Z          3       0\n",
       "..                    ...        ...     ...\n",
       "604  2021-11-07T00:00:00Z      16006     172\n",
       "605  2021-11-08T00:00:00Z      16011     172\n",
       "606  2021-11-09T00:00:00Z      16011     172\n",
       "607  2021-11-10T00:00:00Z      16039     172\n",
       "608  2021-11-11T00:00:00Z      16057     172\n",
       "\n",
       "[609 rows x 3 columns]"
      ]
     },
     "execution_count": 227,
     "metadata": {},
     "output_type": "execute_result"
    }
   ],
   "source": [
    "nl.data"
   ]
  },
  {
   "cell_type": "code",
   "execution_count": 221,
   "id": "e9cedd91-1dea-4701-a6f1-df53c707a4c8",
   "metadata": {},
   "outputs": [
    {
     "data": {
      "text/html": [
       "<div>\n",
       "<style scoped>\n",
       "    .dataframe tbody tr th:only-of-type {\n",
       "        vertical-align: middle;\n",
       "    }\n",
       "\n",
       "    .dataframe tbody tr th {\n",
       "        vertical-align: top;\n",
       "    }\n",
       "\n",
       "    .dataframe thead th {\n",
       "        text-align: right;\n",
       "    }\n",
       "</style>\n",
       "<table border=\"1\" class=\"dataframe\">\n",
       "  <thead>\n",
       "    <tr style=\"text-align: right;\">\n",
       "      <th></th>\n",
       "      <th>in</th>\n",
       "      <th>confirmed</th>\n",
       "      <th>deaths</th>\n",
       "      <th>Z</th>\n",
       "    </tr>\n",
       "  </thead>\n",
       "  <tbody>\n",
       "  </tbody>\n",
       "</table>\n",
       "</div>"
      ],
      "text/plain": [
       "Empty DataFrame\n",
       "Columns: [in, confirmed, deaths, Z]\n",
       "Index: []"
      ]
     },
     "execution_count": 221,
     "metadata": {},
     "output_type": "execute_result"
    }
   ],
   "source": [
    "nl.data['Z'] = nl.data['in'].str.count(\"Z\")\n",
    "nl.data[nl.data['Z'] == 0]"
   ]
  },
  {
   "cell_type": "code",
   "execution_count": 220,
   "id": "c7f17dfa-4433-4ea8-93bd-0702f23944ea",
   "metadata": {},
   "outputs": [
    {
     "ename": "AttributeError",
     "evalue": "'DataFrame' object has no attribute 'apped'",
     "output_type": "error",
     "traceback": [
      "\u001b[0;31m---------------------------------------------------------------------------\u001b[0m",
      "\u001b[0;31mAttributeError\u001b[0m                            Traceback (most recent call last)",
      "\u001b[0;32m/tmp/ipykernel_780/3703914605.py\u001b[0m in \u001b[0;36m<module>\u001b[0;34m\u001b[0m\n\u001b[0;32m----> 1\u001b[0;31m \u001b[0mnl\u001b[0m\u001b[0;34m.\u001b[0m\u001b[0mdata\u001b[0m\u001b[0;34m.\u001b[0m\u001b[0mapped\u001b[0m\u001b[0;34m(\u001b[0m\u001b[0mper_week\u001b[0m\u001b[0;34m)\u001b[0m\u001b[0;34m\u001b[0m\u001b[0;34m\u001b[0m\u001b[0m\n\u001b[0m\u001b[1;32m      2\u001b[0m \u001b[0mnl\u001b[0m\u001b[0;34m.\u001b[0m\u001b[0mdata\u001b[0m\u001b[0;34m\u001b[0m\u001b[0;34m\u001b[0m\u001b[0m\n",
      "\u001b[0;32m~/miniconda3/envs/covid/lib/python3.9/site-packages/pandas/core/generic.py\u001b[0m in \u001b[0;36m__getattr__\u001b[0;34m(self, name)\u001b[0m\n\u001b[1;32m   5476\u001b[0m         ):\n\u001b[1;32m   5477\u001b[0m             \u001b[0;32mreturn\u001b[0m \u001b[0mself\u001b[0m\u001b[0;34m[\u001b[0m\u001b[0mname\u001b[0m\u001b[0;34m]\u001b[0m\u001b[0;34m\u001b[0m\u001b[0;34m\u001b[0m\u001b[0m\n\u001b[0;32m-> 5478\u001b[0;31m         \u001b[0;32mreturn\u001b[0m \u001b[0mobject\u001b[0m\u001b[0;34m.\u001b[0m\u001b[0m__getattribute__\u001b[0m\u001b[0;34m(\u001b[0m\u001b[0mself\u001b[0m\u001b[0;34m,\u001b[0m \u001b[0mname\u001b[0m\u001b[0;34m)\u001b[0m\u001b[0;34m\u001b[0m\u001b[0;34m\u001b[0m\u001b[0m\n\u001b[0m\u001b[1;32m   5479\u001b[0m \u001b[0;34m\u001b[0m\u001b[0m\n\u001b[1;32m   5480\u001b[0m     \u001b[0;32mdef\u001b[0m \u001b[0m__setattr__\u001b[0m\u001b[0;34m(\u001b[0m\u001b[0mself\u001b[0m\u001b[0;34m,\u001b[0m \u001b[0mname\u001b[0m\u001b[0;34m:\u001b[0m \u001b[0mstr\u001b[0m\u001b[0;34m,\u001b[0m \u001b[0mvalue\u001b[0m\u001b[0;34m)\u001b[0m \u001b[0;34m->\u001b[0m \u001b[0;32mNone\u001b[0m\u001b[0;34m:\u001b[0m\u001b[0;34m\u001b[0m\u001b[0;34m\u001b[0m\u001b[0m\n",
      "\u001b[0;31mAttributeError\u001b[0m: 'DataFrame' object has no attribute 'apped'"
     ]
    }
   ],
   "source": [
    "nl.data.apped(per_week)\n",
    "nl.data"
   ]
  },
  {
   "cell_type": "code",
   "execution_count": 97,
   "id": "09b5e2f0-4479-4e45-b62c-b1ac57bec223",
   "metadata": {},
   "outputs": [
    {
     "ename": "AttributeError",
     "evalue": "'DataFrame' object has no attribute 'fit'",
     "output_type": "error",
     "traceback": [
      "\u001b[0;31m---------------------------------------------------------------------------\u001b[0m",
      "\u001b[0;31mAttributeError\u001b[0m                            Traceback (most recent call last)",
      "\u001b[0;32m/tmp/ipykernel_780/3039400106.py\u001b[0m in \u001b[0;36m<module>\u001b[0;34m\u001b[0m\n\u001b[0;32m----> 1\u001b[0;31m \u001b[0mnl\u001b[0m\u001b[0;34m.\u001b[0m\u001b[0mfit\u001b[0m\u001b[0;34m(\u001b[0m\u001b[0;34m)\u001b[0m\u001b[0;34m\u001b[0m\u001b[0;34m\u001b[0m\u001b[0m\n\u001b[0m",
      "\u001b[0;32m~/miniconda3/envs/covid/lib/python3.9/site-packages/pandas/core/generic.py\u001b[0m in \u001b[0;36m__getattr__\u001b[0;34m(self, name)\u001b[0m\n\u001b[1;32m   5476\u001b[0m         ):\n\u001b[1;32m   5477\u001b[0m             \u001b[0;32mreturn\u001b[0m \u001b[0mself\u001b[0m\u001b[0;34m[\u001b[0m\u001b[0mname\u001b[0m\u001b[0;34m]\u001b[0m\u001b[0;34m\u001b[0m\u001b[0;34m\u001b[0m\u001b[0m\n\u001b[0;32m-> 5478\u001b[0;31m         \u001b[0;32mreturn\u001b[0m \u001b[0mobject\u001b[0m\u001b[0;34m.\u001b[0m\u001b[0m__getattribute__\u001b[0m\u001b[0;34m(\u001b[0m\u001b[0mself\u001b[0m\u001b[0;34m,\u001b[0m \u001b[0mname\u001b[0m\u001b[0;34m)\u001b[0m\u001b[0;34m\u001b[0m\u001b[0;34m\u001b[0m\u001b[0m\n\u001b[0m\u001b[1;32m   5479\u001b[0m \u001b[0;34m\u001b[0m\u001b[0m\n\u001b[1;32m   5480\u001b[0m     \u001b[0;32mdef\u001b[0m \u001b[0m__setattr__\u001b[0m\u001b[0;34m(\u001b[0m\u001b[0mself\u001b[0m\u001b[0;34m,\u001b[0m \u001b[0mname\u001b[0m\u001b[0;34m:\u001b[0m \u001b[0mstr\u001b[0m\u001b[0;34m,\u001b[0m \u001b[0mvalue\u001b[0m\u001b[0;34m)\u001b[0m \u001b[0;34m->\u001b[0m \u001b[0;32mNone\u001b[0m\u001b[0;34m:\u001b[0m\u001b[0;34m\u001b[0m\u001b[0;34m\u001b[0m\u001b[0m\n",
      "\u001b[0;31mAttributeError\u001b[0m: 'DataFrame' object has no attribute 'fit'"
     ]
    }
   ],
   "source": [
    "nl.fit()"
   ]
  },
  {
   "cell_type": "code",
   "execution_count": null,
   "id": "25d567c1-912f-4bda-9147-4d67e6a09deb",
   "metadata": {},
   "outputs": [],
   "source": []
  },
  {
   "cell_type": "code",
   "execution_count": 58,
   "id": "ea8d4f8f-e8a7-4133-bc5a-37889ce3c487",
   "metadata": {},
   "outputs": [
    {
     "data": {
      "text/plain": [
       "0.8636476267009753"
      ]
     },
     "execution_count": 58,
     "metadata": {},
     "output_type": "execute_result"
    }
   ],
   "source": [
    "nl.r2"
   ]
  },
  {
   "cell_type": "code",
   "execution_count": 59,
   "id": "617da113-a476-4641-b648-391e069d2d93",
   "metadata": {},
   "outputs": [
    {
     "data": {
      "text/plain": [
       "39.902648936547386"
      ]
     },
     "execution_count": 59,
     "metadata": {},
     "output_type": "execute_result"
    }
   ],
   "source": [
    "nl.r0"
   ]
  },
  {
   "cell_type": "code",
   "execution_count": 60,
   "id": "b09eb937-c504-4916-abc3-ceb5e3b99fca",
   "metadata": {},
   "outputs": [],
   "source": [
    "nl.plot_fit(\"nl_fit_plot\")"
   ]
  },
  {
   "cell_type": "code",
   "execution_count": 68,
   "id": "d92dbbd6-16bd-45be-afb8-b79834af9918",
   "metadata": {},
   "outputs": [],
   "source": [
    "nl.simulation(days_ahead=150)"
   ]
  },
  {
   "cell_type": "code",
   "execution_count": 69,
   "id": "2e77921c-3abf-4f12-91c1-c1289a2de03c",
   "metadata": {},
   "outputs": [
    {
     "data": {
      "text/plain": [
       "0      5.803488e-08\n",
       "1      3.701945e-08\n",
       "2      2.424688e-08\n",
       "3      1.654439e-08\n",
       "4      1.184024e-08\n",
       "           ...     \n",
       "754    7.771485e-04\n",
       "755    7.768216e-04\n",
       "756    7.764948e-04\n",
       "757    7.761682e-04\n",
       "758    7.758417e-04\n",
       "Name: infected, Length: 759, dtype: float64"
      ]
     },
     "execution_count": 69,
     "metadata": {},
     "output_type": "execute_result"
    }
   ],
   "source": [
    "nl.curves['infected']"
   ]
  },
  {
   "cell_type": "code",
   "execution_count": 70,
   "id": "af404713-ef89-468a-bdb8-8a975cc59252",
   "metadata": {},
   "outputs": [],
   "source": [
    "nl.plot_simulation(\"nl_simulation_plot\")"
   ]
  },
  {
   "cell_type": "code",
   "execution_count": null,
   "id": "b961a184-996b-4594-af24-52f39c8508ae",
   "metadata": {},
   "outputs": [],
   "source": []
  }
 ],
 "metadata": {
  "kernelspec": {
   "display_name": "covid",
   "language": "python",
   "name": "covid"
  },
  "language_info": {
   "codemirror_mode": {
    "name": "ipython",
    "version": 3
   },
   "file_extension": ".py",
   "mimetype": "text/x-python",
   "name": "python",
   "nbconvert_exporter": "python",
   "pygments_lexer": "ipython3",
   "version": "3.9.6"
  }
 },
 "nbformat": 4,
 "nbformat_minor": 5
}
