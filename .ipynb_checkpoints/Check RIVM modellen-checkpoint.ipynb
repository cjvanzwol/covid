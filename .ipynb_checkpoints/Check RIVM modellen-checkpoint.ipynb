{
 "cells": [
  {
   "cell_type": "code",
   "execution_count": 3,
   "id": "2888be31-6f02-4d1d-976f-c2d3c1ba43fc",
   "metadata": {},
   "outputs": [
    {
     "name": "stdout",
     "output_type": "stream",
     "text": [
      "Pulling data from sources.json:\n",
      "(Source: CBS)  deceased @ https://opendata.cbs.nl/statline/portal.html?_catalog=CBS&_la=nl&tableId=70895ned&_theme=76\n",
      "(Source: CBS)  population @ https://opendata.cbs.nl/statline/portal.html?_catalog=CBS&_la=nl&tableId=37230ned&_theme=76\n",
      "(Source: RIVM)  counts_per_municipality @ https://data.rivm.nl/geonetwork/srv/dut/catalog.search#/metadata/5f6bc429-1596-490e-8618-1ed8fd768427\n",
      "(Source: RIVM)  prevalence @ https://data.rivm.nl/geonetwork/srv/dut/catalog.search#/metadata/097155aa-75eb-4caa-8ed3-4c6edb80467e\n",
      "(Source: RIVM)  r @ https://data.rivm.nl/geonetwork/srv/dut/catalog.search#/metadata/ed0699d1-c9d5-4436-8517-27eb993eab6e\n",
      "(Source: RIVM)  homes_for_elderly @ https://data.rivm.nl/geonetwork/srv/dut/catalog.search#/metadata/0179dd26-7bf6-4021-857f-8623aaf8e73a\n",
      "(Source: RIVM)  homes_for_disabled @ https://data.rivm.nl/geonetwork/srv/dut/catalog.search#/metadata/aa28b74d-7150-47bc-a7cb-98876e93381b\n",
      "(Source: RIVM)  seventy_plus_living_at_home @ https://data.rivm.nl/geonetwork/srv/dut/catalog.search#/metadata/40508e17-7296-4f39-ad25-8ddd0c904087\n",
      "(Source: RIVM)  sewage @ https://data.rivm.nl/geonetwork/srv/dut/catalog.search#/metadata/a2960b68-9d3f-4dc3-9485-600570cd52b9\n",
      "(Source: RIVM)  support_and_behavior @ https://data.rivm.nl/geonetwork/srv/dut/catalog.search#/metadata/8a72d78a-fcf8-4882-b0ab-cd594961a267?tab=relations\n",
      "(Source: NICE)  hospital_admission @ https://data.rivm.nl/geonetwork/srv/dut/catalog.search#/metadata/4f4ad069-8f24-4fe8-b2a7-533ef27a899f\n",
      "(Source: NICE)  ic_admission @ https://data.rivm.nl/geonetwork/srv/dut/catalog.search#/metadata/45f911c4-3a62-42f1-b594-524a75db2c94\n",
      "(Source: LCPS)  hospital_occupation @ https://lcps.nu/datafeed/\n",
      "(Source: Nivel)  general_practioner @ https://www.nivel.nl/nl/nivel-zorgregistraties-eerste-lijn/monitor-cijfers-covid-19-achtige-klachten-huisartsenpraktijken#opendata\n",
      "\n",
      "Creating dataframes for analysis:\n",
      "dataframe from cbs created, per week per agegroup: deceased_week_agegroup\n",
      "dataframe from cbs created, per week: deceased_per_week\n",
      "dataframe from cbs created, per year per agegroup: deceased_year_agegroup\n",
      "dataframe from cbs created, per year: deceased_per_year\n",
      "dataframe from cbs created, per month per municipality: population_month_municipality\n",
      "dataframe from cbs created, per year per municipality: population_year_municipality\n",
      "dataframe from cbs created, per month: population_per_month\n",
      "dataframe from cbs created, per month: population_per_year\n",
      "dataframe for RIVM data created, per day: rivm_per_day\n",
      "dataframe for RIVM data created: rivm_per_week\n",
      "dataframe for RIVM data created, per month: rivm_per_month\n",
      "dataframe for RIVM data created, per month: rivm_per_month\n",
      "dataframe CBS and RIVM combined, per week: per_week\n",
      "dataframe CBS and RIVM combined, per month: per_month\n",
      "dataframe CBS and RIVM combined, per month: per_year\n"
     ]
    }
   ],
   "source": [
    "%run ./data/data.ipynb"
   ]
  },
  {
   "cell_type": "markdown",
   "id": "serious-spanish",
   "metadata": {},
   "source": [
    "# Check RIVM modellen\n",
    "https://www.rivm.nl/coronavirus-covid-19/hoe-berekeningen-bijdragen-aan-bestrijding-van-virus/rekenmodellen\n",
    "\n",
    "https://github.com/lo-hfk/epyestim\n",
    "https://pypi.org/project/SEIR/"
   ]
  },
  {
   "cell_type": "code",
   "execution_count": 25,
   "id": "surgical-express",
   "metadata": {},
   "outputs": [],
   "source": [
    "import SEIR"
   ]
  },
  {
   "cell_type": "code",
   "execution_count": 31,
   "id": "69892d88-acdd-433e-bc4b-340584358e9d",
   "metadata": {},
   "outputs": [
    {
     "data": {
      "text/plain": [
       "<SEIR.seir.SEIR at 0x78e49d4af8b0>"
      ]
     },
     "execution_count": 31,
     "metadata": {},
     "output_type": "execute_result"
    }
   ],
   "source": [
    "SEIR.seir.SEIR(incubation_period=5,\n",
    "               infectious_period=5,\n",
    "               initial_R0=1,\n",
    "               hospitalization_probability=0.5,\n",
    "               hospitalization_duration=10,\n",
    "               hospitalization_lag_from_onset=2,\n",
    "               icu_probability=0.1,\n",
    "               icu_duration=5,\n",
    "               icu_lag_from_onset=4,\n",
    "               death_probability=0.2,\n",
    "               death_lag_from_onset=4,\n",
    "               population=17000\n",
    ")"
   ]
  },
  {
   "cell_type": "code",
   "execution_count": null,
   "id": "ec7d7914-db9b-40ac-b0a4-eb3011296334",
   "metadata": {},
   "outputs": [],
   "source": []
  }
 ],
 "metadata": {
  "kernelspec": {
   "display_name": "covid",
   "language": "python",
   "name": "covid"
  },
  "language_info": {
   "codemirror_mode": {
    "name": "ipython",
    "version": 3
   },
   "file_extension": ".py",
   "mimetype": "text/x-python",
   "name": "python",
   "nbconvert_exporter": "python",
   "pygments_lexer": "ipython3",
   "version": "3.9.6"
  }
 },
 "nbformat": 4,
 "nbformat_minor": 5
}
