{
 "cells": [
  {
   "cell_type": "markdown",
   "id": "filled-wisdom",
   "metadata": {
    "tags": []
   },
   "source": [
    "# Tests per agegroup\n",
    "Data extracted from weekly report of RIVM"
   ]
  },
  {
   "cell_type": "code",
   "execution_count": null,
   "id": "3d30fe7b-0a68-4877-b2a1-5b0de162e625",
   "metadata": {},
   "outputs": [],
   "source": [
    "%run ./data/data.ipynb"
   ]
  },
  {
   "cell_type": "code",
   "execution_count": null,
   "id": "short-outdoors",
   "metadata": {
    "tags": []
   },
   "outputs": [],
   "source": [
    "import matplotlib.pyplot as plt\n",
    "import seaborn as sns\n",
    "from matplotlib import rcParams\n",
    "rcParams['figure.figsize'] = 20,10"
   ]
  },
  {
   "cell_type": "code",
   "execution_count": null,
   "id": "exotic-processor",
   "metadata": {},
   "outputs": [],
   "source": [
    "#%matplotlib widget\n",
    "# These lines generate the data to be plotted\n",
    "kinderen = rivm_week_agegroup[rivm_week_agegroup.loc[:,'Agerange'] == '0 - 12']\n",
    "kinderen = kinderen.groupby(by=kinderen.index).mean()\n",
    "x = kinderen.index\n",
    "y = kinderen['Total tested']\n",
    "y1 = kinderen['Tested positive']\n",
    "y2 = kinderen['Percentage']\n",
    "\n",
    "fig, ax1 = plt.subplots(figsize=(20,10)) # initializes figure and plots\n",
    "\n",
    "ax2 = ax1.twinx() # applies twinx to ax2, which is the second y axis. \n",
    "\n",
    "sns.lineplot(x = x, y = y, ax = ax1, estimator='max') # plots the first set of data, and sets it to ax1. \n",
    "#sns.lineplot(x = x, y = y, ax = ax1, estimator=None, style=True, dashes=[(2, 2)], color='lightblue') # plots the first set of data, and sets it to ax1. \n",
    "sns.lineplot(x = x, y = y1, ax = ax1, estimator='max') # plots the first set of data, and sets it to ax1. \n",
    "sns.lineplot(x = x, y = y2, ax = ax2, color='mediumseagreen', estimator='max') # plots the first set of data, and sets it to ax1. \n",
    "\n",
    "# these lines add the annotations for the plot. \n",
    "ax1.set_xlabel('Date')\n",
    "ax1.set_ylabel('Counts')\n",
    "ax2.set_ylabel('Percentage', color='mediumseagreen')\n",
    "\n",
    "ax1.set_title(label='0 - 12 jaar')\n",
    "fig.legend(labels=['Total tested', 'Tested positive', 'Percentage'], loc='upper left')\n",
    "plt.show(); # shows the plot."
   ]
  },
  {
   "cell_type": "code",
   "execution_count": null,
   "id": "angry-thickness",
   "metadata": {},
   "outputs": [],
   "source": [
    "#%matplotlib widget\n",
    "sns.lineplot(data=rivm_week_agegroup['2021'], x=\"Date\", y=\"Total tested\", hue=\"Agerange\", estimator='max').set_title('Aantal testen')"
   ]
  },
  {
   "cell_type": "code",
   "execution_count": null,
   "id": "promotional-oxide",
   "metadata": {},
   "outputs": [],
   "source": [
    "#%matplotlib widget\n",
    "sns.lineplot(data=rivm_week_agegroup['2021'], x=\"Date\", y=\"Tested positive\", hue=\"Agerange\", estimator='max').set_title('Aantal positieve testen')"
   ]
  },
  {
   "cell_type": "code",
   "execution_count": null,
   "id": "866e8526-a24b-45eb-884c-3047194d2f7c",
   "metadata": {},
   "outputs": [],
   "source": [
    "#%matplotlib widget\n",
    "sns.lineplot(data=rivm_week_agegroup['2021'], x=\"Date\", y=\"Percentage\", hue=\"Agerange\", estimator='max').set_title('Aantal positieve testen')"
   ]
  },
  {
   "cell_type": "code",
   "execution_count": null,
   "id": "vocational-nature",
   "metadata": {},
   "outputs": [],
   "source": [
    "#%matplotlib widget\n",
    "sns.lineplot(data=rivm_week_agegroup['2021'], x=\"Date\", y=\"Total tested\", hue=\"Group\", estimator='max').set_title('Aantal testen')"
   ]
  },
  {
   "cell_type": "code",
   "execution_count": null,
   "id": "emerging-oregon",
   "metadata": {},
   "outputs": [],
   "source": [
    "#%matplotlib widget\n",
    "sns.lineplot(data=rivm_week_agegroup['2021'], x=\"Date\", y=\"Tested positive\", hue=\"Group\", estimator='max').set_title('Aantal positieve testen')"
   ]
  },
  {
   "cell_type": "code",
   "execution_count": null,
   "id": "deec42f2-33d8-404b-97af-e677f4255fd2",
   "metadata": {},
   "outputs": [],
   "source": [
    "#%matplotlib widget\n",
    "sns.lineplot(data=rivm_week_agegroup['2021'], x=\"Date\", y=\"Percentage\", hue=\"Group\", estimator='max').set_title('Aantal positieve testen')"
   ]
  },
  {
   "cell_type": "code",
   "execution_count": null,
   "id": "alleged-blair",
   "metadata": {},
   "outputs": [],
   "source": [
    "#%matplotlib widget\n",
    "import seaborn as sns # Calls in seaborn\n",
    "\n",
    "# These lines generate the data to be plotted\n",
    "grouped = rivm_week_agegroup[(rivm_week_agegroup['Group'] == 'Kinderen') | (rivm_week_agegroup['Group'] == 'Basisschool') | (rivm_week_agegroup['Group'] == 'Pubers') | (rivm_week_agegroup['Group'] == '4 - 11')].groupby(by=['Date','Group']).sum()\n",
    "grouped.reset_index(level='Group', inplace=True)\n",
    "grouped['Percantage'] = grouped['Tested positive'] / grouped['Total tested'] * 100\n",
    "\n",
    "x = grouped.index\n",
    "y = grouped['Total tested']\n",
    "y1 = grouped['Tested positive']\n",
    "y2 = grouped['Percentage']\n",
    "\n",
    "fig, ax1 = plt.subplots(figsize=(20,10)) # initializes figure and plots\n",
    "\n",
    "ax2 = ax1.twinx() # applies twinx to ax2, which is the second y axis. \n",
    "\n",
    "sns.lineplot(x = x, y = y, ax = ax1, estimator='max') # plots the first set of data, and sets it to ax1. \n",
    "#sns.lineplot(x = x, y = y, ax = ax1, estimator=None, style=True, dashes=[(2, 2)], color='lightblue') # plots the first set of data, and sets it to ax1. \n",
    "sns.lineplot(x = x, y = y1, ax = ax1, estimator='max') # plots the first set of data, and sets it to ax1. \n",
    "sns.lineplot(x = x, y = y2, ax = ax2, color='mediumseagreen', estimator='max') # plots the first set of data, and sets it to ax1. \n",
    "\n",
    "# these lines add the annotations for the plot. \n",
    "ax1.set_xlabel('Date')\n",
    "ax1.set_ylabel('Counts')\n",
    "ax2.set_ylabel('Percentage', color='mediumseagreen')\n",
    "\n",
    "ax1.set_title(label='Data in groups for children')\n",
    "fig.legend(labels=['Total tested', 'Tested positive', 'Percentage'], loc='upper left')\n",
    "plt.show(); # shows the plot."
   ]
  },
  {
   "cell_type": "markdown",
   "id": "taken-gender",
   "metadata": {},
   "source": [
    "## What can be used from the reports\n",
    "\n",
    "### Chapter 4 agegroups\n",
    "Reported, Hospitalised, Deceased agegroups\n",
    "\n",
    "cumulatief"
   ]
  },
  {
   "cell_type": "code",
   "execution_count": null,
   "id": "colonial-asset",
   "metadata": {},
   "outputs": [],
   "source": []
  },
  {
   "cell_type": "code",
   "execution_count": null,
   "id": "c6c26720-63a9-4ba6-b546-243e6e45bf72",
   "metadata": {},
   "outputs": [],
   "source": []
  }
 ],
 "metadata": {
  "kernelspec": {
   "display_name": "covid",
   "language": "python",
   "name": "covid"
  },
  "language_info": {
   "codemirror_mode": {
    "name": "ipython",
    "version": 3
   },
   "file_extension": ".py",
   "mimetype": "text/x-python",
   "name": "python",
   "nbconvert_exporter": "python",
   "pygments_lexer": "ipython3",
   "version": "3.9.6"
  }
 },
 "nbformat": 4,
 "nbformat_minor": 5
}
